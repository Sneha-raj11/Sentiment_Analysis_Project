{
  "nbformat": 4,
  "nbformat_minor": 0,
  "metadata": {
    "colab": {
      "provenance": []
    },
    "kernelspec": {
      "name": "python3",
      "display_name": "Python 3"
    },
    "language_info": {
      "name": "python"
    }
  },
  "cells": [
    {
      "cell_type": "markdown",
      "source": [
        "#Project Title\n",
        "##Development of NLP Sentiment Analysis using Hugging face BERT and Transformer"
      ],
      "metadata": {
        "id": "5JgtTfcn8htR"
      }
    },
    {
      "cell_type": "markdown",
      "source": [
        "###Import LLM's"
      ],
      "metadata": {
        "id": "hOAkwBlDAADR"
      }
    },
    {
      "cell_type": "code",
      "execution_count": 1,
      "metadata": {
        "id": "Oh-C-y9q2Tr_"
      },
      "outputs": [],
      "source": [
        "#Pipelines for purification of text\n",
        "from transformers import pipeline\n",
        "import matplotlib.pyplot as plt\n",
        "import time\n",
        "import sys"
      ]
    },
    {
      "cell_type": "markdown",
      "source": [
        "###Initialize the model"
      ],
      "metadata": {
        "id": "uItXbDEoAdFT"
      }
    },
    {
      "cell_type": "code",
      "source": [
        "classifier= pipeline(\"text-classification\",model=\"distilbert-base-uncased-finetuned-sst-2-english\")"
      ],
      "metadata": {
        "colab": {
          "base_uri": "https://localhost:8080/"
        },
        "id": "bVE-JvgqB6pi",
        "outputId": "d19dcabb-dabc-4ba9-a39e-aa0dd434d452"
      },
      "execution_count": 10,
      "outputs": [
        {
          "output_type": "stream",
          "name": "stderr",
          "text": [
            "Device set to use cpu\n"
          ]
        }
      ]
    },
    {
      "cell_type": "code",
      "source": [
        "def analyze_sentiment(text):\n",
        "  result= classifier(text)[0]\n",
        "  return result['label'], result['score']"
      ],
      "metadata": {
        "id": "oTYhzZu1Bvla"
      },
      "execution_count": 16,
      "outputs": []
    },
    {
      "cell_type": "code",
      "source": [
        "def plot_results(history):\n",
        "  plt.figure(figsize=(10, 6))\n",
        "  plt.bar([f\"Round {i+1}\" for i in range(len(history))],[s[1] for s in history], color=['red' if s[0]=='Positive' else 'blue' for s in history])\n",
        "  plt.xlabel('Round')\n",
        "  plt.ylabel('Score')\n",
        "  plt.title('Sentiment Analysis Results')\n",
        "  plt.show()"
      ],
      "metadata": {
        "id": "zYJPf6lCCYK1"
      },
      "execution_count": 17,
      "outputs": []
    },
    {
      "cell_type": "code",
      "source": [
        "def main():\n",
        "    score = 0\n",
        "    rounds = 0\n",
        "    history = []\n",
        "    timeout = 300  # 5-minute timeout\n",
        "    start_time = time.time()\n",
        "\n",
        "    print(\"🎮 Sarcasm Showdown: Fool the AI! 🎮\")\n",
        "\n",
        "    try:\n",
        "        while True:\n",
        "            if time.time() - start_time > timeout:\n",
        "                print(\"\\n⏰ Time's up! Auto-closing game...\")\n",
        "                break\n",
        "\n",
        "            try:\n",
        "                user_input = input(\"\\nYour text: \").strip()\n",
        "\n",
        "                if user_input.lower() == 'quit':\n",
        "                    print(\"\\n🏆 Final Score:\", score)\n",
        "                    break\n",
        "\n",
        "                if user_input.lower() == 'plot':\n",
        "                    plot_results(history)\n",
        "                    continue\n",
        "\n",
        "                label, confidence = analyze_sentiment(user_input)\n",
        "                emoji = \"😊\" if label == \"POSITIVE\" else \"😠\"\n",
        "\n",
        "                print(f\"AI says: {emoji} ({label}, {confidence:.2f} confidence)\")\n",
        "\n",
        "                # Scoring logic\n",
        "                is_sarcasm = input(\"Was this sarcasm? (y/n): \").lower().startswith('y')\n",
        "\n",
        "                if is_sarcasm:\n",
        "                    if label == \"POSITIVE\":\n",
        "                        score += 10\n",
        "                        print(\"✅ AI fooled! +10pts\")\n",
        "                    else:\n",
        "                        score -= 5\n",
        "                        print(\"❌ AI detected sarcasm! -5pts\")\n",
        "                else:\n",
        "                    print(\"➡ AI's judgment accepted\")\n",
        "\n",
        "                rounds += 1\n",
        "                history.append((label, confidence))\n",
        "                start_time = time.time()  # Reset timeout timer\n",
        "\n",
        "                print(f\"\\nSCORE: {score} pts (Round {rounds})\")\n",
        "                print(f\"Success rate: {len([h for h in history if h[0]=='NEGATIVE'])/len(history):.1%}\")\n",
        "\n",
        "            except KeyboardInterrupt:\n",
        "                print(\"\\n🚪 Quick exit: Final score will be shown...\")\n",
        "                raise  # Re-raise to outer handler\n",
        "\n",
        "    except KeyboardInterrupt:\n",
        "        print(\"\\n⌨ Exited by keyboard command\")\n",
        "\n",
        "    finally:\n",
        "        print(\"\\n📊 Game Summary:\")\n",
        "        print(f\"- Final score: {score} pts\")\n",
        "        print(f\"- Rounds played: {rounds}\")\n",
        "        if history:\n",
        "            plot_results(history)\n",
        "\n",
        "if __name__ == \"__main__\":\n",
        "    main()"
      ],
      "metadata": {
        "colab": {
          "base_uri": "https://localhost:8080/"
        },
        "id": "AxtjXXoeEHo1",
        "outputId": "fa3339cc-a143-4696-d812-50c2fd058391"
      },
      "execution_count": null,
      "outputs": [
        {
          "output_type": "stream",
          "name": "stdout",
          "text": [
            "🎮 Sarcasm Showdown: Fool the AI! 🎮\n",
            "\n",
            "Your text: I kill you\n",
            "AI says: 😠 (NEGATIVE, 1.00 confidence)\n",
            "Was this sarcasm? (y/n): n\n",
            "➡ AI's judgment accepted\n",
            "\n",
            "SCORE: 0 pts (Round 1)\n",
            "Success rate: 100.0%\n",
            "\n",
            "Your text: I am sad😊\n",
            "AI says: 😊 (POSITIVE, 0.96 confidence)\n",
            "Was this sarcasm? (y/n): no\n",
            "➡ AI's judgment accepted\n",
            "\n",
            "SCORE: 0 pts (Round 2)\n",
            "Success rate: 50.0%\n",
            "\n",
            "Your text: I am cry😂😂\n",
            "AI says: 😊 (POSITIVE, 0.96 confidence)\n",
            "Was this sarcasm? (y/n): no\n",
            "➡ AI's judgment accepted\n",
            "\n",
            "SCORE: 0 pts (Round 3)\n",
            "Success rate: 33.3%\n"
          ]
        }
      ]
    }
  ]
}